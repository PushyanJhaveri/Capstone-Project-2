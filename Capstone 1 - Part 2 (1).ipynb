{
 "cells": [
  {
   "cell_type": "markdown",
   "id": "b097e738",
   "metadata": {},
   "source": [
    "## Capstone 1 - Part 2\n",
    "\n",
    "In the first part of the capstone, we focused on Data Retrieval, Data Preprocessing, Feature Engineering and Exploratory Data Analysis using Python & its libraries. Now we are going to shift gears and gain insights into our HR Analytics dataset using SQL.\n",
    "\n",
    "## TODO: Make use of SQL to do the following:\n",
    "\n",
    "### Create a SQLITE3 DB using the CSV file (2 pts). Please refer this [link](https://www.linkedin.com/pulse/accessing-sqlite3-database-from-jupyter-notebook-using-varun-lobo/) and this [link](https://www.geeksforgeeks.org/how-to-import-csv-file-in-sqlite-database-using-python/) to know more.\n",
    "\n",
    "### Calculate the Attrition Rate and summarize attrition (3 pts) by:\n",
    "- Gender\n",
    "- Department\n",
    "- Age\n",
    "- Average monthly income by job level\n",
    "- Years at company\n",
    "\n",
    "### Continue using SQL to explore main reasons for attrition (3 pts), For example:\n",
    "- Why do more people over 50 years old leave the company than people who aged 40-50?\n",
    "- Why do people with higher pay still leave the company?\n",
    "- Which factors drive employees who work at company less than 5 years to leave?\n",
    "\n",
    "### Effective Communication (2 pts)\n",
    "- Please make use of markdown cells to communicate your thought process, why did you think of performing a step? what was the observation from the query? etc.\n",
    "- The code should be commented so that it is readable for the reviewer.\n",
    "\n",
    "### Grading and Important Instructions\n",
    "- Each of the above steps are mandatory and should be completed in good faith\n",
    "- Make sure before submitting that the code is in fully working condition\n",
    "- It is fine to make use of ChatGPT, stackoverflow type resources, just provide the reference links from where you got it\n",
    "- Debugging is an art, if you find yourself stuck with errors, take help of stackoverflow and ChatGPT to resolve the issue and if it's still unresolved, reach out to me for help.\n",
    "- You need to score atleast 7/10 to pass the project, anything less than that will be marked required, needing resubmission.\n",
    "- Feedback will be provided on 3 levels (Awesome, Suggestion, & Required). Required changes are mandatory to be made.\n",
    "- For submission, please upload the project on github and share the link to the file with us through LMS."
   ]
  },
  {
   "cell_type": "markdown",
   "id": "179020d0",
   "metadata": {},
   "source": [
    "#### Calculate Attrition Rate\n"
   ]
  },
  {
   "cell_type": "code",
   "execution_count": 10,
   "id": "9e6465d9",
   "metadata": {},
   "outputs": [
    {
     "name": "stdout",
     "output_type": "stream",
     "text": [
      "Database created and data loaded successfully.\n"
     ]
    }
   ],
   "source": [
    "### Implement code\n",
    "import sqlite3\n",
    "import pandas as pd\n",
    "\n",
    "# Load the CSV file into a Pandas DataFrame\n",
    "file_path = 'HR-Analytics.csv'  # Replace with the correct path if needed\n",
    "df = pd.read_csv(file_path)\n",
    "\n",
    "# Connect to SQLite3 and create a database\n",
    "conn = sqlite3.connect('HR-Analytics.db')\n",
    "\n",
    "# Save the DataFrame to SQLite\n",
    "df.to_sql('hr_data', conn, if_exists='replace', index=False)\n",
    "print(\"Database created and data loaded successfully.\")"
   ]
  },
  {
   "cell_type": "markdown",
   "id": "41bab6fc",
   "metadata": {},
   "source": [
    "#### Sample Output\n",
    "\n",
    "![image](https://api-v4.skyprepapp.com/public_api/da/857886?view_key=eyJvYmplY3RfdHlwZSI6ImFydGljbGUiLCJvYmplY3RfaWQiOjg1Nzg4NiwiaG1hYyI6ImUyNGU0YWRhNWQwMDkxNWE2NWNiY2EwNGFlNDNiMTBlYmYyNWY0YzAiLCJleHBpcmVzX2F0Ijo0ODkxMzgxMTk5LCJvdHRfdG9rZW4iOm51bGx9)"
   ]
  },
  {
   "cell_type": "markdown",
   "id": "723146e8",
   "metadata": {},
   "source": [
    "#### Find Attrition by Gender"
   ]
  },
  {
   "cell_type": "code",
   "execution_count": 14,
   "id": "91cf1ab8",
   "metadata": {},
   "outputs": [
    {
     "name": "stdout",
     "output_type": "stream",
     "text": [
      "   Row Attrition  Gender  Count Gender  Attrition by Gender (%)\n",
      "0    1     false  Female           501                     85.2\n",
      "1    2      true  Female            87                     14.8\n",
      "2    3     false    Male           732                     83.0\n",
      "3    4      true    Male           150                     17.0\n"
     ]
    }
   ],
   "source": [
    "### Implement code\n",
    "# SQL query to calculate attrition by gender with true/false segregation\n",
    "query_attrition_by_gender = '''\n",
    "SELECT \n",
    "    ROW_NUMBER() OVER (ORDER BY Gender, Attrition) AS Row,\n",
    "    CASE \n",
    "        WHEN Attrition = 'Yes' THEN 'true'\n",
    "        ELSE 'false'\n",
    "    END AS Attrition,\n",
    "    Gender,\n",
    "    COUNT(*) AS Count_Gender,\n",
    "    ROUND(COUNT(*) * 100.0 / SUM(COUNT(*)) OVER (PARTITION BY Gender), 1) AS Attrition_by_Gender\n",
    "FROM \n",
    "    hr_data\n",
    "GROUP BY \n",
    "    Gender, Attrition\n",
    "ORDER BY \n",
    "    Gender, Attrition;\n",
    "'''\n",
    "\n",
    "# Execute the query and fetch the result\n",
    "attrition_by_gender = pd.read_sql_query(query_attrition_by_gender, conn)\n",
    "\n",
    "# Rename columns for clarity\n",
    "attrition_by_gender.rename(columns={\n",
    "    'Row': 'Row',\n",
    "    'Attrition': 'Attrition',\n",
    "    'Gender': 'Gender',\n",
    "    'Count_Gender': 'Count Gender',\n",
    "    'Attrition_by_Gender': 'Attrition by Gender (%)'\n",
    "}, inplace=True)\n",
    "\n",
    "# Display the formatted DataFrame\n",
    "print(attrition_by_gender)"
   ]
  },
  {
   "cell_type": "markdown",
   "id": "14b778fe",
   "metadata": {},
   "source": [
    "The query counts the number of employees by gender and attrition status and calculates the attrition percentage for each gender using the formula:\n",
    "COUNT(*) * 100.0 / SUM(COUNT(*)) OVER (PARTITION BY Gender) This gives the proportion of employees who left (attrition) out of the total employees for each gender."
   ]
  },
  {
   "cell_type": "markdown",
   "id": "8cdfacd8",
   "metadata": {},
   "source": [
    "#### Sample output\n",
    "\n",
    "![image](https://api-v4.skyprepapp.com/public_api/da/857882?view_key=eyJvYmplY3RfdHlwZSI6ImFydGljbGUiLCJvYmplY3RfaWQiOjg1Nzg4MiwiaG1hYyI6IjM1NDU5N2E4MjZmMTMxNWFhMTA4NzFiYTFkZjQ5YjBhNTYyOWYwMzgiLCJleHBpcmVzX2F0Ijo0ODkxMzgxMTk5LCJvdHRfdG9rZW4iOm51bGx9)"
   ]
  },
  {
   "cell_type": "markdown",
   "id": "40708d2a",
   "metadata": {},
   "source": [
    "#### Find Attrition by Dept"
   ]
  },
  {
   "cell_type": "code",
   "execution_count": 15,
   "id": "58b8581b",
   "metadata": {},
   "outputs": [
    {
     "name": "stdout",
     "output_type": "stream",
     "text": [
      "               Department  Total_Employees  Employees_Left  Attrition_Rate\n",
      "0         Human Resources               63              12           19.05\n",
      "1  Research & Development              961             133           13.84\n",
      "2                   Sales              446              92           20.63\n"
     ]
    }
   ],
   "source": [
    "#### Find Attrition by Gender### Implement code\n",
    "# SQL query to calculate attrition by department\n",
    "query_department = '''\n",
    "SELECT \n",
    "    Department,\n",
    "    COUNT(*) AS Total_Employees,\n",
    "    SUM(CASE WHEN Attrition = 'Yes' THEN 1 ELSE 0 END) AS Employees_Left,\n",
    "    ROUND(SUM(CASE WHEN Attrition = 'Yes' THEN 1 ELSE 0 END) * 100.0 / COUNT(*), 2) AS Attrition_Rate\n",
    "FROM \n",
    "    hr_data\n",
    "GROUP BY \n",
    "    Department;\n",
    "'''\n",
    "\n",
    "# Execute the query and display the results\n",
    "department_attrition = pd.read_sql_query(query_department, conn)\n",
    "print(department_attrition)\n"
   ]
  },
  {
   "cell_type": "markdown",
   "id": "549a706e",
   "metadata": {},
   "source": [
    "It does this by counting the total number of employees in each department and the number of employees who left (where Attrition = 'Yes'). The attrition rate is then calculated as the percentage of employees who left relative to the total employees in that department. The query groups the results by department to provide a department-wise breakdown. This helps in identifying departments with higher or lower turnover, which can be useful for HR decision-making."
   ]
  },
  {
   "cell_type": "markdown",
   "id": "e23bee46",
   "metadata": {},
   "source": [
    "#### Sample Output\n",
    "\n",
    "<img src=\"https://api-v4.skyprepapp.com/public_api/da/857884?view_key=eyJvYmplY3RfdHlwZSI6ImFydGljbGUiLCJvYmplY3RfaWQiOjg1Nzg4NCwiaG1hYyI6IjdmOTA4NzJjODZmYTgxOGUyMzkyYTBlZjhjYjljNjA4ZGM3NjkzMWYiLCJleHBpcmVzX2F0Ijo0ODkxMzgxMTk5LCJvdHRfdG9rZW4iOm51bGx9\" width=\"450\" height=\"450\">"
   ]
  },
  {
   "cell_type": "markdown",
   "id": "a2cef9d3",
   "metadata": {},
   "source": [
    "#### Find Attrition by Age Groups"
   ]
  },
  {
   "cell_type": "code",
   "execution_count": 17,
   "id": "088d0ac6",
   "metadata": {},
   "outputs": [
    {
     "name": "stdout",
     "output_type": "stream",
     "text": [
      "   Row Attrition Age Group  Count Age Group  Attrition by Age Group (%)\n",
      "0    1     false     30-39              533                        85.7\n",
      "1    2      true     30-39               89                        14.3\n",
      "2    3     false     40-49              315                        90.3\n",
      "3    4      true     40-49               34                         9.7\n",
      "4    5     false       <30              235                        72.1\n",
      "5    6      true       <30               91                        27.9\n",
      "6    7     false       >50              150                        86.7\n",
      "7    8      true       >50               23                        13.3\n"
     ]
    }
   ],
   "source": [
    "### Implement code\n",
    "# SQL query to calculate attrition by age groups with true/false segregation\n",
    "query_attrition_by_age_groups = '''\n",
    "SELECT \n",
    "    ROW_NUMBER() OVER (ORDER BY Age_Group, Attrition) AS Row,\n",
    "    CASE \n",
    "        WHEN Attrition = 'Yes' THEN 'true'\n",
    "        ELSE 'false'\n",
    "    END AS Attrition,\n",
    "    Age_Group,\n",
    "    COUNT(*) AS Count_Age_Group,\n",
    "    ROUND(COUNT(*) * 100.0 / SUM(COUNT(*)) OVER (PARTITION BY Age_Group), 1) AS Attrition_by_Age_Group\n",
    "FROM \n",
    "    (SELECT \n",
    "        *,\n",
    "        CASE \n",
    "            WHEN Age < 30 THEN '<30'\n",
    "            WHEN Age BETWEEN 30 AND 39 THEN '30-39'\n",
    "            WHEN Age BETWEEN 40 AND 49 THEN '40-49'\n",
    "            ELSE '>50'\n",
    "        END AS Age_Group\n",
    "    FROM \n",
    "        hr_data) AS Age_Categorized\n",
    "GROUP BY \n",
    "    Age_Group, Attrition\n",
    "ORDER BY \n",
    "    Age_Group, Attrition;\n",
    "'''\n",
    "\n",
    "# Execute the query and fetch the result\n",
    "attrition_by_age_groups = pd.read_sql_query(query_attrition_by_age_groups, conn)\n",
    "\n",
    "# Rename columns for clarity\n",
    "attrition_by_age_groups.rename(columns={\n",
    "    'Row': 'Row',\n",
    "    'Attrition': 'Attrition',\n",
    "    'Age_Group': 'Age Group',\n",
    "    'Count_Age_Group': 'Count Age Group',\n",
    "    'Attrition_by_Age_Group': 'Attrition by Age Group (%)'\n",
    "}, inplace=True)\n",
    "\n",
    "# Display the formatted DataFrame\n",
    "print(attrition_by_age_groups)\n"
   ]
  },
  {
   "cell_type": "markdown",
   "id": "7eb8bfc8",
   "metadata": {},
   "source": [
    "#### Sample Output\n",
    "\n",
    "![image](https://api-v4.skyprepapp.com/public_api/da/857885?view_key=eyJvYmplY3RfdHlwZSI6ImFydGljbGUiLCJvYmplY3RfaWQiOjg1Nzg4NSwiaG1hYyI6IjcwNGVlOWIwYzg1MmMwNmNhODg0NmYyZDFlNWE3OTU1MTFhMGVmYWYiLCJleHBpcmVzX2F0Ijo0ODkxMzgxMTk5LCJvdHRfdG9rZW4iOm51bGx9)"
   ]
  },
  {
   "cell_type": "markdown",
   "id": "67dbffff",
   "metadata": {},
   "source": [
    "#### Find Attrition by Monthly Income"
   ]
  },
  {
   "cell_type": "code",
   "execution_count": 19,
   "id": "9f954d18",
   "metadata": {},
   "outputs": [
    {
     "name": "stdout",
     "output_type": "stream",
     "text": [
      "    Row              Department  Job Level  Attrition Average Income  \\\n",
      "0     1         Human Resources          1                   2415.70   \n",
      "1     2         Human Resources          2                       NaN   \n",
      "2     3         Human Resources          3                  10216.00   \n",
      "3     4         Human Resources          4                       NaN   \n",
      "4     5         Human Resources          5                       NaN   \n",
      "5     6  Research & Development          1                   2687.38   \n",
      "6     7  Research & Development          2                   5372.00   \n",
      "7     8  Research & Development          3                   9503.85   \n",
      "8     9  Research & Development          4                  12169.00   \n",
      "9    10  Research & Development          5                  19550.00   \n",
      "10   11                   Sales          1                   2373.44   \n",
      "11   12                   Sales          2                   5917.00   \n",
      "12   13                   Sales          3                   9202.76   \n",
      "13   14                   Sales          4                  13395.75   \n",
      "14   15                   Sales          5                  19334.50   \n",
      "\n",
      "    Non-Attrition Average Income  Income Difference  \n",
      "0                        2871.26            -455.56  \n",
      "1                        5563.46                NaN  \n",
      "2                        9326.50             889.50  \n",
      "3                       16147.50                NaN  \n",
      "4                       19197.86                NaN  \n",
      "5                        2886.38            -199.00  \n",
      "6                        5286.68              85.32  \n",
      "7                       10245.20            -741.35  \n",
      "8                       15686.40           -3517.40  \n",
      "9                       19196.89             353.11  \n",
      "10                       2603.66            -230.22  \n",
      "11                       5714.90             202.10  \n",
      "12                       9302.77            -100.01  \n",
      "13                      15402.33           -2006.58  \n",
      "14                      19043.18             291.32  \n"
     ]
    }
   ],
   "source": [
    "### Implement code\n",
    "# Updated SQL query\n",
    "query_attrition_by_income = '''\n",
    "SELECT \n",
    "    ROW_NUMBER() OVER (ORDER BY Department, JobLevel, AVG(MonthlyIncome)) AS Row,\n",
    "    Department,\n",
    "    JobLevel,\n",
    "    ROUND(AVG(CASE WHEN Attrition = 'Yes' THEN MonthlyIncome ELSE NULL END), 2) AS Attrition_Avg_Income,\n",
    "    ROUND(AVG(CASE WHEN Attrition = 'No' THEN MonthlyIncome ELSE NULL END), 2) AS Non_Attrition_Avg_Income,\n",
    "    ROUND(AVG(CASE WHEN Attrition = 'Yes' THEN MonthlyIncome ELSE NULL END) -\n",
    "          AVG(CASE WHEN Attrition = 'No' THEN MonthlyIncome ELSE NULL END), 2) AS Income_Difference\n",
    "FROM \n",
    "    hr_data\n",
    "GROUP BY \n",
    "    Department, JobLevel\n",
    "ORDER BY \n",
    "    Department, JobLevel, AVG(MonthlyIncome);\n",
    "'''\n",
    "\n",
    "# Execute the query and fetch the result\n",
    "attrition_by_income = pd.read_sql_query(query_attrition_by_income, conn)\n",
    "\n",
    "# Rename columns for clarity\n",
    "attrition_by_income.rename(columns={\n",
    "    'Row': 'Row',\n",
    "    'Department': 'Department',\n",
    "    'JobLevel': 'Job Level',\n",
    "    'Attrition_Avg_Income': 'Attrition Average Income',\n",
    "    'Non_Attrition_Avg_Income': 'Non-Attrition Average Income',\n",
    "    'Income_Difference': 'Income Difference'\n",
    "}, inplace=True)\n",
    "\n",
    "# Display the formatted DataFrame\n",
    "print(attrition_by_income)\n"
   ]
  },
  {
   "cell_type": "markdown",
   "id": "dfa0958c",
   "metadata": {},
   "source": [
    "The Query compares the average income of employees who left (attrition) and those who stayed, broken down by department and job level. It calculates the average income for both groups and the difference between them, helping identify if income levels play a role in employee turnover."
   ]
  },
  {
   "cell_type": "markdown",
   "id": "124f8cee",
   "metadata": {},
   "source": [
    "#### Sample Output\n",
    "\n",
    "![image](https://api-v4.skyprepapp.com/public_api/da/857883?view_key=eyJvYmplY3RfdHlwZSI6ImFydGljbGUiLCJvYmplY3RfaWQiOjg1Nzg4MywiaG1hYyI6Ijg3NTU4ZDU1ZjRjN2U1YWI3ODQzYjM1NzFkNjBjMjEwNGY5NWI5ODUiLCJleHBpcmVzX2F0Ijo0ODkxMzgxMTk5LCJvdHRfdG9rZW4iOm51bGx9)"
   ]
  },
  {
   "cell_type": "markdown",
   "id": "018c4ff6",
   "metadata": {},
   "source": [
    "#### Find Attrition by Years At Company"
   ]
  },
  {
   "cell_type": "code",
   "execution_count": 21,
   "id": "ee8af448",
   "metadata": {},
   "outputs": [
    {
     "name": "stdout",
     "output_type": "stream",
     "text": [
      "   Row   Tenure Years  Num (Attrition Count)  Attrition Percent (%)\n",
      "0    1    11-20 Years                     12                   6.67\n",
      "1    2      2-5 Years                     87                  15.51\n",
      "2    3     6-10 Years                     55                  12.28\n",
      "3    4      New Hires                     16                  36.36\n",
      "4    5          Other                     59                  34.50\n",
      "5    6  Over 20 Years                      8                  12.12\n"
     ]
    }
   ],
   "source": [
    "### Implement code\n",
    "# SQL query to group attrition by years at company into specific ranges\n",
    "query_attrition_by_tenure = '''\n",
    "WITH TenureGroups AS (\n",
    "    SELECT \n",
    "        CASE \n",
    "            WHEN YearsAtCompany = 0 THEN 'New Hires'\n",
    "            WHEN YearsAtCompany BETWEEN 2 AND 5 THEN '2-5 Years'\n",
    "            WHEN YearsAtCompany BETWEEN 6 AND 10 THEN '6-10 Years'\n",
    "            WHEN YearsAtCompany BETWEEN 11 AND 20 THEN '11-20 Years'\n",
    "            WHEN YearsAtCompany > 20 THEN 'Over 20 Years'\n",
    "            ELSE 'Other'\n",
    "        END AS Tenure_Group,\n",
    "        Attrition\n",
    "    FROM \n",
    "        hr_data\n",
    ")\n",
    "SELECT \n",
    "    ROW_NUMBER() OVER (ORDER BY Tenure_Group) AS Row,\n",
    "    Tenure_Group AS Tenure_Years,\n",
    "    COUNT(CASE WHEN Attrition = 'Yes' THEN 1 ELSE NULL END) AS Num,\n",
    "    ROUND(COUNT(CASE WHEN Attrition = 'Yes' THEN 1 ELSE NULL END) * 100.0 / COUNT(*), 2) AS Percent\n",
    "FROM \n",
    "    TenureGroups\n",
    "GROUP BY \n",
    "    Tenure_Group\n",
    "ORDER BY \n",
    "    ROW;\n",
    "'''\n",
    "\n",
    "# Execute the query and fetch the result\n",
    "attrition_by_tenure = pd.read_sql_query(query_attrition_by_tenure, conn)\n",
    "\n",
    "# Rename columns for clarity\n",
    "attrition_by_tenure.rename(columns={\n",
    "    'Row': 'Row',\n",
    "    'Tenure_Years': 'Tenure Years',\n",
    "    'Num': 'Num (Attrition Count)',\n",
    "    'Percent': 'Attrition Percent (%)'\n",
    "}, inplace=True)\n",
    "\n",
    "# Display the formatted DataFrame\n",
    "print(attrition_by_tenure)\n"
   ]
  },
  {
   "cell_type": "markdown",
   "id": "0bea1202",
   "metadata": {},
   "source": [
    "This SQL query categorizes employees based on their years at the company into specific tenure groups (e.g., \"New Hires,\" \"2-5 Years,\") and calculates attrition for each group. It counts the number of employees who left (attrition) and computes the attrition percentage within each tenure group. This helps identify if employees in certain tenure ranges have higher turnover, offering insights into retention strategies for different experience levels."
   ]
  },
  {
   "cell_type": "markdown",
   "id": "ae528e04",
   "metadata": {},
   "source": [
    "#### Sample Output\n",
    "\n",
    "![image](https://api-v4.skyprepapp.com/public_api/da/857881?view_key=eyJvYmplY3RfdHlwZSI6ImFydGljbGUiLCJvYmplY3RfaWQiOjg1Nzg4MSwiaG1hYyI6IjFhYmY3NGI4MzQ1NzViMWZkNDJlMjcwYTUyOTQ0OWQwZjJjMjhmNWUiLCJleHBpcmVzX2F0Ijo0ODkxMzgxMTk5LCJvdHRfdG9rZW4iOm51bGx9)"
   ]
  },
  {
   "cell_type": "markdown",
   "id": "b35f060a",
   "metadata": {},
   "source": [
    "#### Continue using SQL to explore main reasons for attrition (3 pts), For example:\n",
    "- Why do more people over 50 years old leave the company than people who aged 40-50?\n",
    "- Why do people with higher pay still leave the company?\n",
    "- Which factors drive employees who work at company less than 5 years to leave?"
   ]
  },
  {
   "cell_type": "code",
   "execution_count": 22,
   "id": "a915666f",
   "metadata": {},
   "outputs": [
    {
     "name": "stdout",
     "output_type": "stream",
     "text": [
      "  Age_Group  Total_Employees  Employees_Left  Attrition_Rate\n",
      "0     40-50              379              39           10.29\n",
      "1   Over 50              143              18           12.59\n"
     ]
    }
   ],
   "source": [
    "# SQL query to compare attrition rates for employees over 50 vs 40-50\n",
    "query_over_50 = '''\n",
    "SELECT \n",
    "    CASE \n",
    "        WHEN Age > 50 THEN 'Over 50'\n",
    "        WHEN Age BETWEEN 40 AND 50 THEN '40-50'\n",
    "    END AS Age_Group,\n",
    "    COUNT(*) AS Total_Employees,\n",
    "    SUM(CASE WHEN Attrition = 'Yes' THEN 1 ELSE 0 END) AS Employees_Left,\n",
    "    ROUND(SUM(CASE WHEN Attrition = 'Yes' THEN 1 ELSE 0 END) * 100.0 / COUNT(*), 2) AS Attrition_Rate\n",
    "FROM \n",
    "    hr_data\n",
    "WHERE Age >= 40\n",
    "GROUP BY \n",
    "    Age_Group;\n",
    "'''\n",
    "\n",
    "over_50_attrition = pd.read_sql_query(query_over_50, conn)\n",
    "print(over_50_attrition)\n"
   ]
  },
  {
   "cell_type": "markdown",
   "id": "53729b49",
   "metadata": {},
   "source": [
    "This indicates that employees over 50 have a higher attrition rate (12.59%) compared to those aged 40-50 (10.29%).\n",
    "\n",
    "Possible Reasons could be-\n",
    "Retirement,health issues, economic factors"
   ]
  },
  {
   "cell_type": "code",
   "execution_count": 23,
   "id": "d1c3c9a3",
   "metadata": {},
   "outputs": [
    {
     "name": "stdout",
     "output_type": "stream",
     "text": [
      "   JobLevel  Average_Income  Employees_Left  Attrition_Rate\n",
      "0         1     2786.915285             143           26.34\n",
      "1         2     5502.277154              52            9.74\n",
      "2         3     9817.252294              32           14.68\n",
      "3         4    15503.783019               5            4.72\n",
      "4         5    19191.826087               5            7.25\n"
     ]
    }
   ],
   "source": [
    "# SQL query to analyze attrition by monthly income\n",
    "query_income = '''\n",
    "SELECT \n",
    "    JobLevel,\n",
    "    AVG(MonthlyIncome) AS Average_Income,\n",
    "    SUM(CASE WHEN Attrition = 'Yes' THEN 1 ELSE 0 END) AS Employees_Left,\n",
    "    ROUND(SUM(CASE WHEN Attrition = 'Yes' THEN 1 ELSE 0 END) * 100.0 / COUNT(*), 2) AS Attrition_Rate\n",
    "FROM \n",
    "    hr_data\n",
    "GROUP BY \n",
    "    JobLevel;\n",
    "'''\n",
    "\n",
    "income_attrition = pd.read_sql_query(query_income, conn)\n",
    "print(income_attrition)\n"
   ]
  },
  {
   "cell_type": "markdown",
   "id": "2c5dd877",
   "metadata": {},
   "source": [
    "The query and its output suggest that employees at lower job levels (e.g., JobLevel 1) with lower average monthly incomes exhibit a higher attrition rate (26.34%) compared to those at higher job levels (e.g., JobLevel 5 with an attrition rate of 7.25%).\n",
    "\n",
    "However, even employees with higher pay (e.g., JobLevel 5) still leave the company, as evidenced by their attrition rates of 7.25% and 4.72%.\n",
    "\n",
    "Possible Reasons - Job Satisfaction and Career Growth, Better opportunities"
   ]
  },
  {
   "cell_type": "code",
   "execution_count": 24,
   "id": "324e69f6",
   "metadata": {},
   "outputs": [
    {
     "name": "stdout",
     "output_type": "stream",
     "text": [
      "    Experience_Group  Total_Employees  Employees_Left  Attrition_Rate\n",
      "0    5 years or more              890              96           10.79\n",
      "1  Less than 5 years              580             141           24.31\n"
     ]
    }
   ],
   "source": [
    "# SQL query to analyze attrition for employees with less than 5 years at the company\n",
    "query_years = '''\n",
    "SELECT \n",
    "    CASE \n",
    "        WHEN YearsAtCompany < 5 THEN 'Less than 5 years'\n",
    "        ELSE '5 years or more'\n",
    "    END AS Experience_Group,\n",
    "    COUNT(*) AS Total_Employees,\n",
    "    SUM(CASE WHEN Attrition = 'Yes' THEN 1 ELSE 0 END) AS Employees_Left,\n",
    "    ROUND(SUM(CASE WHEN Attrition = 'Yes' THEN 1 ELSE 0 END) * 100.0 / COUNT(*), 2) AS Attrition_Rate\n",
    "FROM \n",
    "    hr_data\n",
    "GROUP BY \n",
    "    Experience_Group;\n",
    "'''\n",
    "\n",
    "years_attrition = pd.read_sql_query(query_years, conn)\n",
    "print(years_attrition)\n"
   ]
  },
  {
   "cell_type": "markdown",
   "id": "afb51824",
   "metadata": {},
   "source": [
    "Employees who have been with the company for less than 5 years may leave due to factors such as lack of career growth, job mismatch, poor work-life balance, inadequate compensation, or dissatisfaction with company culture.\n",
    "\n",
    "\n",
    "\n",
    "\n",
    "\n",
    "\n"
   ]
  }
 ],
 "metadata": {
  "kernelspec": {
   "display_name": "Python 3 (ipykernel)",
   "language": "python",
   "name": "python3"
  },
  "language_info": {
   "codemirror_mode": {
    "name": "ipython",
    "version": 3
   },
   "file_extension": ".py",
   "mimetype": "text/x-python",
   "name": "python",
   "nbconvert_exporter": "python",
   "pygments_lexer": "ipython3",
   "version": "3.9.13"
  }
 },
 "nbformat": 4,
 "nbformat_minor": 5
}
